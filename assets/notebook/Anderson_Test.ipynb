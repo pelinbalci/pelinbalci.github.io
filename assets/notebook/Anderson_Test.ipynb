{
 "cells": [
  {
   "cell_type": "markdown",
   "id": "c753fcd5",
   "metadata": {},
   "source": [
    "It is a bit confusing to understand the distribution of the data. Here, I collected the information I've found from the internet about Anderson Test.You may check the references for detailed information. "
   ]
  },
  {
   "cell_type": "code",
   "execution_count": 1,
   "id": "8df19ea1",
   "metadata": {},
   "outputs": [],
   "source": [
    "import pandas as pd\n",
    "import numpy as np\n",
    "import scipy as sc\n",
    "from matplotlib import pyplot as plt\n",
    "from scipy.stats import anderson\n",
    "from scipy.stats import expon"
   ]
  },
  {
   "cell_type": "markdown",
   "id": "15bb21b9",
   "metadata": {},
   "source": [
    "## Application of Anderson Test\n",
    "\n",
    "References:\n",
    "\n",
    "- https://www.statology.org/anderson-darling-test-python/ [1]\n",
    "- https://towardsdatascience.com/methods-for-normality-test-with-application-in-python-bb91b49ed0f5 [2]\n",
    "- https://www.geeksforgeeks.org/how-to-perform-an-anderson-darling-test-in-python/ [3]\n",
    "- https://docs.scipy.org/doc/scipy/reference/generated/scipy.stats.anderson.html [4]"
   ]
  },
  {
   "cell_type": "code",
   "execution_count": 2,
   "id": "a7a2a2d8",
   "metadata": {},
   "outputs": [],
   "source": [
    "#Create random data\n",
    "np.random.seed(0)\n",
    "data = np.random.randint(0, 10, size=50)"
   ]
  },
  {
   "cell_type": "code",
   "execution_count": 3,
   "id": "d98e7a64",
   "metadata": {},
   "outputs": [
    {
     "name": "stdout",
     "output_type": "stream",
     "text": [
      "AndersonResult(statistic=1.1926463985076836, critical_values=array([0.538, 0.613, 0.736, 0.858, 1.021]), significance_level=array([15. , 10. ,  5. ,  2.5,  1. ]))\n"
     ]
    }
   ],
   "source": [
    "# Apply Test\n",
    "result = anderson(data, dist='norm')\n",
    "print(result)"
   ]
  },
  {
   "cell_type": "code",
   "execution_count": 4,
   "id": "3763dd3c",
   "metadata": {},
   "outputs": [
    {
     "name": "stdout",
     "output_type": "stream",
     "text": [
      "Null hypothesis can be rejected at 5.0  %significance level\n"
     ]
    }
   ],
   "source": [
    "#Decide to Reject & Not Reject the Null Hypothesis (null hypothesis is the default value 'norm')\n",
    "if result[0] > result[1][2]:\n",
    "    print('Null hypothesis can be rejected at', result[2][2], ' %significance level')\n",
    "else: \n",
    "    print('Null hypothesis cant be rejected.')"
   ]
  },
  {
   "cell_type": "code",
   "execution_count": 5,
   "id": "2e9cca83",
   "metadata": {},
   "outputs": [
    {
     "name": "stdout",
     "output_type": "stream",
     "text": [
      "statistics: 1.193\n",
      "critical value at defined significance level: 0.736\n",
      "Significance Level: 5.0\n"
     ]
    }
   ],
   "source": [
    "# Useful Stats\n",
    "print('statistics:', np.round(result[0],3))\n",
    "print('critical value at defined significance level:', result[1][2])\n",
    "print('Significance Level:', result[2][2])"
   ]
  },
  {
   "cell_type": "markdown",
   "id": "998ccf2a",
   "metadata": {},
   "source": [
    "### How to Evaluate?"
   ]
  },
  {
   "cell_type": "code",
   "execution_count": 18,
   "id": "statistical-ebony",
   "metadata": {},
   "outputs": [
    {
     "name": "stdout",
     "output_type": "stream",
     "text": [
      "\n",
      "The test statistic is 1.193 \n",
      "\n",
      "We can compare this value to each critical value that corresponds to each significance level to see if the test results are significant. \n",
      "\n",
      "For example:The critical value for α = 0.01 is 1.021. \n",
      "\n",
      "Because the test statistic 1.193 is greater than this critical value, the results are significant at a significance level of 0.01. \n",
      "\n",
      "The critical value for α = 0.025 is 0.858. Because the test statistic (1.1926) is greater than this critical value, the results are significant at a significance level of 0.025. \n",
      "\n",
      "And so on. \n",
      "\n",
      "We can see that the test results are significant at every significance level, which means we would reject the null hypothesis of the test no matter which significance level we choose to use.\n",
      " \n",
      "Thus, we have sufficient evidence to say that the sample data is not normally distributed.[1]\n",
      "\n"
     ]
    }
   ],
   "source": [
    "print(\"\"\"\n",
    "The test statistic is {} \\n\n",
    "We can compare this value to each critical value that corresponds to each significance level to see if the test results are significant. \\n\n",
    "For example:The critical value for α = 0.01 is 1.021. \\n\n",
    "Because the test statistic {} is greater than this critical value, the results are significant at a significance level of 0.01. \\n\n",
    "The critical value for α = 0.025 is 0.858. Because the test statistic (1.1926) is greater than this critical value, the results are significant at a significance level of 0.025. \\n\n",
    "And so on. \\n\n",
    "We can see that the test results are significant at every significance level, which means we would reject the null hypothesis of the test no matter which significance level we choose to use.\\n \n",
    "Thus, we have sufficient evidence to say that the sample data is not normally distributed.[1]\n",
    "\"\"\".format(np.round(result[0],3), np.round(result[0],3)))"
   ]
  },
  {
   "cell_type": "markdown",
   "id": "f33063d6",
   "metadata": {},
   "source": [
    "##  Generate Exponential Distribution"
   ]
  },
  {
   "cell_type": "code",
   "execution_count": 6,
   "id": "5924e38a",
   "metadata": {},
   "outputs": [
    {
     "data": {
      "text/plain": [
       "(array([6.16384337e-03, 2.06673883e-03, 7.32125442e-04, 2.47150627e-04,\n",
       "        7.27462223e-05, 3.07772479e-05, 5.59586325e-06, 2.79793163e-06,\n",
       "        9.32643875e-07, 3.73057550e-06]),\n",
       " array([7.24522631e-03, 1.07229308e+02, 2.14451371e+02, 3.21673433e+02,\n",
       "        4.28895496e+02, 5.36117558e+02, 6.43339621e+02, 7.50561684e+02,\n",
       "        8.57783746e+02, 9.65005809e+02, 1.07222787e+03]),\n",
       " <BarContainer object of 10 artists>)"
      ]
     },
     "execution_count": 6,
     "metadata": {},
     "output_type": "execute_result"
    },
    {
     "data": {
      "image/png": "[encoded data removed]",
      "text/plain": [
       "<Figure size 432x288 with 1 Axes>"
      ]
     },
     "metadata": {
      "needs_background": "light"
     },
     "output_type": "display_data"
    }
   ],
   "source": [
    "#generate exponential distribution\n",
    "exp_data = expon.rvs(scale=100, size=10000)\n",
    "\n",
    "#create histogram \n",
    "plt.hist(exp_data, density=True, edgecolor='black')"
   ]
  },
  {
   "cell_type": "markdown",
   "id": "7a9663dd",
   "metadata": {},
   "source": [
    "## Apply Anderson Test"
   ]
  },
  {
   "cell_type": "code",
   "execution_count": 9,
   "id": "7b438767",
   "metadata": {},
   "outputs": [
    {
     "name": "stdout",
     "output_type": "stream",
     "text": [
      "Null hypothesis: \" norm \" can be rejected at 5.0  % significance level.\n",
      "\n",
      "AndersonResult(statistic=468.17207168700224, critical_values=array([0.576, 0.656, 0.787, 0.918, 1.092]), significance_level=array([15. , 10. ,  5. ,  2.5,  1. ]))\n",
      "\n",
      "statistics: 468.172\n",
      "critical value at defined significance level: 0.787\n",
      "Significance Level: 5.0\n"
     ]
    }
   ],
   "source": [
    "defined_distribution= 'norm'\n",
    "\n",
    "test_result = anderson(exp_data, dist=defined_distribution)\n",
    "if test_result[0] > test_result[1][2]:\n",
    "    print('Null hypothesis: \"', defined_distribution,  '\" can be rejected at', test_result[2][2], ' % significance level.')\n",
    "else: \n",
    "    print('Null hypothesis cant be rejected. It is ', defined_distribution, 'distribution.')\n",
    "\n",
    "\n",
    "print('')\n",
    "print(test_result)\n",
    "print('')   \n",
    "print('statistics:', np.round(test_result[0],3))\n",
    "print('critical value at defined significance level:', test_result[1][2])\n",
    "print('Significance Level:', test_result[2][2])"
   ]
  },
  {
   "cell_type": "code",
   "execution_count": 10,
   "id": "9dbaccb4",
   "metadata": {},
   "outputs": [
    {
     "name": "stdout",
     "output_type": "stream",
     "text": [
      "Null hypothesis cant be rejected. It is \" expon \" distribution.\n",
      "\n",
      "AndersonResult(statistic=0.5943139450810122, critical_values=array([0.922, 1.078, 1.341, 1.606, 1.957]), significance_level=array([15. , 10. ,  5. ,  2.5,  1. ]))\n",
      "\n",
      "statistics: 0.594\n",
      "critical value at defined significance level: 1.341\n",
      "Significance Level: 5.0\n"
     ]
    }
   ],
   "source": [
    "defined_distribution= 'expon'\n",
    "\n",
    "test_result = anderson(exp_data, dist=defined_distribution)\n",
    "if test_result[0] > test_result[1][2]:\n",
    "    print('Null hypothesis can be rejected at', test_result[2][2], ' % significance level.')\n",
    "else: \n",
    "    print('Null hypothesis cant be rejected. It is \"', defined_distribution, '\" distribution.')\n",
    "\n",
    "\n",
    "print('')\n",
    "print(test_result)\n",
    "print('')   \n",
    "print('statistics:', np.round(test_result[0],3))\n",
    "print('critical value at defined significance level:', test_result[1][2])\n",
    "print('Significance Level:', test_result[2][2])"
   ]
  }
 ],
 "metadata": {
  "kernelspec": {
   "display_name": "Python 3",
   "language": "python",
   "name": "python3"
  },
  "language_info": {
   "codemirror_mode": {
    "name": "ipython",
    "version": 3
   },
   "file_extension": ".py",
   "mimetype": "text/x-python",
   "name": "python",
   "nbconvert_exporter": "python",
   "pygments_lexer": "ipython3",
   "version": "3.9.0"
  }
 },
 "nbformat": 4,
 "nbformat_minor": 5
}
