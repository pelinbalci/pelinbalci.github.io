{
 "cells": [
  {
   "cell_type": "markdown",
   "id": "c753fcd5",
   "metadata": {},
   "source": [
    "It is a bit confusing to understand the distribution of the data. Here, I collected the information I've found from the internet about Anderson Test.You may check the references for detailed information. "
   ]
  },
  {
   "cell_type": "code",
   "execution_count": 41,
   "id": "8df19ea1",
   "metadata": {},
   "outputs": [],
   "source": [
    "import pandas as pd\n",
    "import numpy as no\n",
    "import scipy as sc\n",
    "from matplotlib import pyplot as plt\n",
    "from scipy.stats import anderson\n",
    "from scipy.stats import expon"
   ]
  },
  {
   "cell_type": "markdown",
   "id": "15bb21b9",
   "metadata": {},
   "source": [
    "## Application of Anderson Test\n",
    "\n",
    "References:\n",
    "\n",
    "- https://www.statology.org/anderson-darling-test-python/ [1]\n",
    "- https://towardsdatascience.com/methods-for-normality-test-with-application-in-python-bb91b49ed0f5 [2]\n",
    "- https://www.geeksforgeeks.org/how-to-perform-an-anderson-darling-test-in-python/ [3]\n",
    "- https://docs.scipy.org/doc/scipy/reference/generated/scipy.stats.anderson.html [4]"
   ]
  },
  {
   "cell_type": "code",
   "execution_count": 55,
   "id": "a7a2a2d8",
   "metadata": {},
   "outputs": [],
   "source": [
    "#Create random data\n",
    "np.random.seed(0)\n",
    "data = np.random.randint(0, 10, size=50)"
   ]
  },
  {
   "cell_type": "code",
   "execution_count": 57,
   "id": "d98e7a64",
   "metadata": {},
   "outputs": [
    {
     "name": "stdout",
     "output_type": "stream",
     "text": [
      "AndersonResult(statistic=1.1926463985076836, critical_values=array([0.538, 0.613, 0.736, 0.858, 1.021]), significance_level=array([15. , 10. ,  5. ,  2.5,  1. ]))\n"
     ]
    }
   ],
   "source": [
    "# Apply Test\n",
    "result = anderson(data, dist='norm')\n",
    "print(result)"
   ]
  },
  {
   "cell_type": "code",
   "execution_count": 58,
   "id": "3763dd3c",
   "metadata": {},
   "outputs": [
    {
     "name": "stdout",
     "output_type": "stream",
     "text": [
      "Null hypothesis can be rejected at 5.0  %significance level\n"
     ]
    }
   ],
   "source": [
    "#Decide to Reject & Not Reject the Null Hypothesis (null hypothesis is the default value 'norm')\n",
    "if result[0] > result[1][2]:\n",
    "    print('Null hypothesis can be rejected at', a[2][2], ' %significance level')\n",
    "else: \n",
    "    print('Null hypothesis cant be rejected.')"
   ]
  },
  {
   "cell_type": "code",
   "execution_count": 50,
   "id": "2e9cca83",
   "metadata": {},
   "outputs": [
    {
     "name": "stdout",
     "output_type": "stream",
     "text": [
      "statistics: 1.122\n",
      "critical value at defined significance level: 0.759\n",
      "Significance Level: 5.0\n"
     ]
    }
   ],
   "source": [
    "# Useful Stats\n",
    "print('statistics:', np.round(result[0],3))\n",
    "print('critical value at defined significance level:', result[1][2])\n",
    "print('Significance Level:', result[2][2])"
   ]
  },
  {
   "cell_type": "markdown",
   "id": "998ccf2a",
   "metadata": {},
   "source": [
    "### How to Evaluate?"
   ]
  },
  {
   "cell_type": "markdown",
   "id": "a6bde23f",
   "metadata": {},
   "source": [
    "\"The test statistic is 1.1926. We can compare this value to each critical value that corresponds to each significance level to see if the test results are significant. For example:\n",
    "\n",
    "The critical value for α = 0.01 is 1.021. Because the test statistic (1.1926) is greater than this critical value, the results are significant at a significance level of 0.01.\n",
    "\n",
    "The critical value for α = 0.025 is 0.858. Because the test statistic (1.1926) is greater than this critical value, the results are significant at a significance level of 0.025.\n",
    "\n",
    "And so on.\n",
    "\n",
    "We can see that the test results are significant at every significance level, which means we would reject the null hypothesis of the test no matter which significance level we choose to use. \n",
    "\n",
    "**Thus, we have sufficient evidence to say that the sample data is not normally distributed.** \" [1]"
   ]
  },
  {
   "cell_type": "markdown",
   "id": "f33063d6",
   "metadata": {},
   "source": [
    "##  Generate Exponential Distribution"
   ]
  },
  {
   "cell_type": "code",
   "execution_count": 46,
   "id": "5924e38a",
   "metadata": {},
   "outputs": [
    {
     "data": {
      "text/plain": [
       "(array([6.77685387e-03, 3.07587804e-03, 1.43251578e-03, 6.41221349e-04,\n",
       "        2.76580969e-04, 1.00462146e-04, 6.07733967e-05, 1.98443744e-05,\n",
       "        1.36430074e-05, 4.96109361e-06]),\n",
       " array([2.07886005e-02, 8.06481727e+01, 1.61275557e+02, 2.41902941e+02,\n",
       "        3.22530325e+02, 4.03157709e+02, 4.83785093e+02, 5.64412477e+02,\n",
       "        6.45039862e+02, 7.25667246e+02, 8.06294630e+02]),\n",
       " <BarContainer object of 10 artists>)"
      ]
     },
     "execution_count": 46,
     "metadata": {},
     "output_type": "execute_result"
    },
    {
     "data": {
      "image/png": "[encoded data removed]",
      "text/plain": [
       "<Figure size 432x288 with 1 Axes>"
      ]
     },
     "metadata": {
      "needs_background": "light"
     },
     "output_type": "display_data"
    }
   ],
   "source": [
    "#generate exponential distribution\n",
    "exp_data = expon.rvs(scale=100, size=10000)\n",
    "\n",
    "#create histogram \n",
    "plt.hist(exp_data, density=True, edgecolor='black')"
   ]
  },
  {
   "cell_type": "markdown",
   "id": "7a9663dd",
   "metadata": {},
   "source": [
    "## Apply Anderson Test"
   ]
  },
  {
   "cell_type": "code",
   "execution_count": 65,
   "id": "7b438767",
   "metadata": {},
   "outputs": [
    {
     "name": "stdout",
     "output_type": "stream",
     "text": [
      "Null hypothesis: \" norm \" can be rejected at 5.0  % significance level.\n",
      "\n",
      "AndersonResult(statistic=482.2439188632743, critical_values=array([0.576, 0.656, 0.787, 0.918, 1.092]), significance_level=array([15. , 10. ,  5. ,  2.5,  1. ]))\n",
      "\n",
      "statistics: 463.874\n",
      "critical value at defined significance level: 0.787\n",
      "Significance Level: 5.0\n"
     ]
    }
   ],
   "source": [
    "defined_distribution= 'norm'\n",
    "\n",
    "test_result = anderson(x, dist=defined_distribution)\n",
    "if test_result[0] > test_result[1][2]:\n",
    "    print('Null hypothesis: \"', defined_distribution,  '\" can be rejected at', test_result[2][2], ' % significance level.')\n",
    "else: \n",
    "    print('Null hypothesis cant be rejected. It is ', defined_distribution, 'distribution.')\n",
    "\n",
    "\n",
    "print('')\n",
    "print(a)\n",
    "print('')   \n",
    "print('statistics:', np.round(test_result[0],3))\n",
    "print('critical value at defined significance level:', test_result[1][2])\n",
    "print('Significance Level:', test_result[2][2])"
   ]
  },
  {
   "cell_type": "code",
   "execution_count": 67,
   "id": "9dbaccb4",
   "metadata": {},
   "outputs": [
    {
     "name": "stdout",
     "output_type": "stream",
     "text": [
      "Null hypothesis cant be rejected. It is \" expon \" distribution.\n",
      "\n",
      "AndersonResult(statistic=482.2439188632743, critical_values=array([0.576, 0.656, 0.787, 0.918, 1.092]), significance_level=array([15. , 10. ,  5. ,  2.5,  1. ]))\n",
      "\n",
      "statistics: 0.245\n",
      "critical value at defined significance level: 1.341\n",
      "Significance Level: 5.0\n"
     ]
    }
   ],
   "source": [
    "defined_distribution= 'expon'\n",
    "\n",
    "test_result = anderson(x, dist=defined_distribution)\n",
    "if test_result[0] > test_result[1][2]:\n",
    "    print('Null hypothesis can be rejected at', test_result[2][2], ' % significance level.')\n",
    "else: \n",
    "    print('Null hypothesis cant be rejected. It is \"', defined_distribution, '\" distribution.')\n",
    "\n",
    "\n",
    "print('')\n",
    "print(a)\n",
    "print('')   \n",
    "print('statistics:', np.round(test_result[0],3))\n",
    "print('critical value at defined significance level:', test_result[1][2])\n",
    "print('Significance Level:', test_result[2][2])"
   ]
  }
 ],
 "metadata": {
  "kernelspec": {
   "display_name": "Python 3",
   "language": "python",
   "name": "python3"
  },
  "language_info": {
   "codemirror_mode": {
    "name": "ipython",
    "version": 3
   },
   "file_extension": ".py",
   "mimetype": "text/x-python",
   "name": "python",
   "nbconvert_exporter": "python",
   "pygments_lexer": "ipython3",
   "version": "3.9.1"
  }
 },
 "nbformat": 4,
 "nbformat_minor": 5
}
